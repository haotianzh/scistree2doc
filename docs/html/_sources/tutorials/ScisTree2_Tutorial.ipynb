{
 "cells": [
  {
   "cell_type": "markdown",
   "metadata": {},
   "source": [
    "# ScisTree2 Tutorial\n",
    "\n",
    "This tutorial includes three examples to help you get started with **ScisTree2**:\n",
    "\n",
    "- **Example I**: Running ScisTree2 with your own **probabilistic genotype matrix** (with csv support).\n",
    "- **Example II**: Running ScisTree2 with **raw read data** as input (with csv support).\n",
    "- **Example III**: Running ScisTree2 with **VCF** as input.\n"
   ]
  },
  {
   "cell_type": "markdown",
   "metadata": {},
   "source": [
    "---\n",
    "### **Importing Required Packages**\n",
    "\n",
    "Before running ScisTree2, make sure to import the required libraries:"
   ]
  },
  {
   "cell_type": "code",
   "execution_count": 1,
   "metadata": {},
   "outputs": [],
   "source": [
    "# import libraries\n",
    "import scistree2 as s2\n",
    "import numpy as np \n",
    "import pandas as pd\n",
    "from phytreeviz import TreeViz"
   ]
  },
  {
   "cell_type": "markdown",
   "metadata": {},
   "source": [
    "## Inputs: Providing Genotype Probability for ScisTree2\n",
    "\n",
    "ScisTree2 works with genotype probability data, which it accepts as a `scistree.probability.GenotypeProbability` object. You have several convenient methods to construct this essential object, each catering to different input data formats.\n",
    "\n",
    "-----\n",
    "\n",
    "### Method 1: Direct Probability Specification\n",
    "\n",
    "If you've already calculated your genotype probabilities, you can input them directly using the `from_probs` method.\n",
    "\n",
    "```python\n",
    "scistree.probability.from_probs(probs, cell_names=None, site_names=None, margin=1e-5)\n",
    "```\n",
    "\n",
    "  * **`probs`**: A NumPy array containing the genotype probabilities.\n",
    "  * **`cell_names` (Optional)**: A list of names for your cells. If you don't provide this, cells will be automatically named `c1`, `c2`, up to `cN`.\n",
    "  * **`site_names` (Optional)**: A list of names for your genomic sites. If not provided, sites will be named `s1`, `s2`, up to `sN`.\n",
    "  * **`margin`**: This parameter helps prevent probabilities from becoming either extremely large or extremely small, ensuring numerical stability.\n",
    "\n",
    "**When to use this:** This method is ideal when you have precise genotype probabilities readily available, perhaps from another analysis pipeline or a simulation.\n",
    "\n",
    "### Method 2: From Read Counts\n",
    "\n",
    "For raw read count data, ScisTree2 can automatically convert these into genotype probabilities. This method includes crucial parameters to account for common experimental noise in sequencing data.\n",
    "\n",
    "```python\n",
    "scistree.probability.from_reads(reads, ado=0.2, seqerr=0.01, posterior=True, af=None, cell_names=None, site_names=None)\n",
    "```\n",
    "\n",
    "  * **`reads`**: A three-dimensional NumPy array containing the read counts for each cell at each site.\n",
    "  * **`ado`**: The Allele Dropout (ADO) rate, which accounts for the probability of an allele not being detected in a cell.\n",
    "  * **`seqerr`**: The sequencing error rate, representing the probability of a base being incorrectly called during sequencing.\n",
    "  * **`posterior`**: If set to `True`, ScisTree2 will use `af` to calculate the posterior genotype probability. If `False`, `af` defaults to `0.5`.\n",
    "  * **`af`**: The allele frequency.\n",
    "  * **`cell_names` (Optional)**: A list of names for your cells. If you don't provide this, cells will be automatically named `c1`, `c2`, up to `cN`.\n",
    "  * **`site_names` (Optional)**: A list of names for your genomic sites. If not provided, sites will be named `s1`, `s2`, up to `sN`.\n",
    "\n",
    "**When to use this:** This is your go-to method when you have sequencing read depth information and need to infer genotype probabilities while accounting for common single-cell sequencing artifacts.\n",
    "\n",
    "\n",
    "### Method 1: From CSV File\n",
    "If you've already had a csv file containing probabilites or reads information, you can input it directly using the `from_csv` method.\n",
    "\n",
    "```python\n",
    "scistree.probability.from_csv(csv_filepath, source=\"probability\", **kwargs)\n",
    "```\n",
    "  * **`csv_path`**: The path to your CSV file.\n",
    "  * **`source`**: Be either \"probability\" or \"read\".\n",
    "  * **`kwargs`**: Other parameters, such as `ado`, `seqerr`, etc.\n",
    "\n",
    "\n",
    "### Method 3: From VCF File\n",
    "\n",
    "ScisTree2 also supports direct input from Variant Call Format (VCF) files, a common format for storing genetic variation data.\n",
    "\n",
    "```python\n",
    "scistree.probability.from_vcf(vcf_path, ado=0.2, seqerr=0.01, posterior=True, af=None, key='AD')\n",
    "```\n",
    "\n",
    "  * **`vcf_path`**: The path to your VCF file.\n",
    "  * **`ado`**: The Allele Dropout (ADO) rate, which accounts for the probability of an allele not being detected in a cell.\n",
    "  * **`seqerr`**: The sequencing error rate, representing the probability of a base being incorrectly called during sequencing.\n",
    "  * **`posterior`**: If set to `True`, ScisTree2 will use `af` to calculate the posterior genotype probability. If `False`, `af` defaults to `0.5`.\n",
    "  * **`af`**: The allele frequency.\n",
    "  * **`key`**: This is the specific tag within the VCF file that stores the read depth information.\n",
    "\n",
    "  ------"
   ]
  },
  {
   "cell_type": "markdown",
   "metadata": {},
   "source": [
    "### 🧬**Example I: Toy Genotype Probability Matrix**\n",
    "\n",
    "In this example, we provide a small toy dataset where rows represent SNPs and columns represent cells.  \n",
    "Each entry in the matrix denotes the probability of being the **wild type** (reference).\n",
    "\n",
    "This format is suitable when you already have probabilistic genotypes derived from upstream processing.\n",
    "\n",
    "*use 0.5 if you are uncertain."
   ]
  },
  {
   "cell_type": "markdown",
   "metadata": {},
   "source": [
    "We invoke **ScisTree2** with **SPR (Subtree Prune and Regraft)** local search on a small toy dataset consisting of 5 cells and 6 SNPs.\n",
    "\n",
    "- **Rows** represent **SNPs**\n",
    "- **Columns** represent **cells**\n",
    "- Each entry contains the **probability of being wild type** (i.e., the reference allele)\n",
    "\n",
    "\n",
    "|             | cell1 | cell2 | cell3 | cell4 | cell5 |\n",
    "|:-----------:|:-----:|:-----:|:-----:|:-----:|:-----:|\n",
    "| **snp1**    | 0.01  | 0.60  | 0.08  | 0.80  | 0.70  |\n",
    "| **snp2**    | 0.80  | 0.02  | 0.70  | 0.01  | 0.30  |\n",
    "| **snp3**    | 0.02  | 0.80  | 0.02  | 0.80  | 0.90  |\n",
    "| **snp4**    | 0.90  | 0.90  | 0.80  | 0.80  | 0.02  |\n",
    "| **snp5**    | 0.01  | 0.80  | 0.01  | 0.80  | 0.90  |\n",
    "| **snp6**    | 0.05  | 0.02  | 0.70  | 0.05  | 0.90  |\n"
   ]
  },
  {
   "cell_type": "code",
   "execution_count": 2,
   "metadata": {},
   "outputs": [
    {
     "name": "stdout",
     "output_type": "stream",
     "text": [
      "      cell1  cell2  cell3  cell4  cell5\n",
      "snp1   0.01   0.60   0.08   0.80   0.70\n",
      "snp2   0.80   0.02   0.70   0.01   0.30\n",
      "snp3   0.02   0.80   0.02   0.80   0.90\n",
      "snp4   0.90   0.90   0.80   0.80   0.02\n",
      "snp5   0.01   0.80   0.01   0.80   0.90\n",
      "snp6   0.05   0.02   0.70   0.05   0.90\n"
     ]
    }
   ],
   "source": [
    "# one can generate the input directly from the probability matrix.\n",
    "probs = np.array([[0.01, 0.6, 0.08, 0.8, 0.7],\n",
    "                 [0.8, 0.02, 0.7, 0.01, 0.3],\n",
    "                 [0.02, 0.8, 0.02, 0.8, 0.9],\n",
    "                 [0.9, 0.9, 0.8, 0.8, 0.02],\n",
    "                 [0.01, 0.8, 0.01, 0.8, 0.9],\n",
    "                 [0.05, 0.02, 0.7, 0.05, 0.9]]) \n",
    "cell_names = ['cell1', 'cell2', 'cell3', 'cell4', 'cell5']\n",
    "site_names = ['snp1', 'snp2', 'snp3', 'snp4', 'snp5', 'snp6']\n",
    "gp = s2.probability.from_probs(probs, cell_names, site_names)\n",
    "print(gp)"
   ]
  },
  {
   "cell_type": "markdown",
   "metadata": {},
   "source": [
    "Or, simply from a `.csv` file. (if you have it)"
   ]
  },
  {
   "cell_type": "code",
   "execution_count": 3,
   "metadata": {},
   "outputs": [
    {
     "name": "stdout",
     "output_type": "stream",
     "text": [
      "      cell1  cell2  cell3  cell4  cell5\n",
      "snp1   0.01   0.60   0.08   0.80   0.70\n",
      "snp2   0.80   0.02   0.70   0.01   0.30\n",
      "snp3   0.02   0.80   0.02   0.80   0.90\n",
      "snp4   0.90   0.90   0.80   0.80   0.02\n",
      "snp5   0.01   0.80   0.01   0.80   0.90\n",
      "snp6   0.05   0.02   0.70   0.05   0.90\n"
     ]
    }
   ],
   "source": [
    "# or get it from a .csv file\n",
    "gp = s2.probability.from_csv('./data/toy_probs.csv')\n",
    "print(gp)"
   ]
  },
  {
   "cell_type": "markdown",
   "metadata": {},
   "source": [
    "Next, we initialize a **ScisTree2** caller with **SPR local search** enabled and set the number of threads to 8.\n",
    "\n",
    "After calling the `infer` method, ScisTree2 returns:\n",
    "- The **inferred tree**\n",
    "- The **imputed genotype** (pandas.DataFrame)\n",
    "- The corresponding **log-likelihood** of the tree\n",
    "\n",
    "To obtain the Newick string, you can either use `print(tree)` or `tree.output()`."
   ]
  },
  {
   "cell_type": "code",
   "execution_count": 4,
   "metadata": {},
   "outputs": [
    {
     "name": "stdout",
     "output_type": "stream",
     "text": [
      "Imputed genotype from SPR: \n",
      "       cell1  cell2  cell3  cell4  cell5\n",
      "snp1      1      0      1      0      0\n",
      "snp2      0      1      0      1      0\n",
      "snp3      1      0      1      0      0\n",
      "snp4      0      0      0      0      1\n",
      "snp5      1      0      1      0      0\n",
      "snp6      1      1      1      1      0\n",
      "Newick of the SPR tree:  (((cell1,cell3),(cell2,cell4)),cell5);\n",
      "Likelihood of the SPR tree:  -6.271255186813891\n"
     ]
    }
   ],
   "source": [
    "caller = s2.ScisTree2(threads=8) # use 8 threads\n",
    "tree, imputed_genotype, likelihood = caller.infer(gp) # run Scistree2 inference\n",
    "print('Imputed genotype from SPR: \\n', imputed_genotype)\n",
    "print('Newick of the SPR tree: ', tree)\n",
    "print('Likelihood of the SPR tree: ', likelihood)"
   ]
  },
  {
   "cell_type": "markdown",
   "metadata": {},
   "source": [
    "We can also replace **SPR** (Subtree Prune and Regraft) local search with **NNI** (Nearest Neighbor Interchange) by setting `nni=True`.\n",
    "\n",
    "> ℹ️**Note:** Using **NNI** typically **speeds up the algorithm** but may result in **lower accuracy** compared to **SPR**. NNI is recommended when a faster approximation is needed, especially for **large datasets**.\n"
   ]
  },
  {
   "cell_type": "code",
   "execution_count": 5,
   "metadata": {},
   "outputs": [
    {
     "name": "stdout",
     "output_type": "stream",
     "text": [
      "Imputed genotype from NNI: \n",
      "       cell1  cell2  cell3  cell4  cell5\n",
      "snp1      1      0      1      0      0\n",
      "snp2      0      1      0      1      0\n",
      "snp3      1      0      1      0      0\n",
      "snp4      0      0      0      0      1\n",
      "snp5      1      0      1      0      0\n",
      "snp6      1      1      1      1      0\n",
      "Newick of the NNI tree:  (((cell1,cell3),(cell2,cell4)),cell5);\n",
      "Likelihood of the NNI tree:  -6.271255186813891\n"
     ]
    }
   ],
   "source": [
    "caller_nni = s2.ScisTree2(threads=8, nni=True)\n",
    "tree_nni, imputed_genotype_nni, likelihood_nni = caller_nni.infer(gp)\n",
    "print('Imputed genotype from NNI: \\n', imputed_genotype_nni)\n",
    "print('Newick of the NNI tree: ', tree_nni)\n",
    "print('Likelihood of the NNI tree: ', likelihood_nni)"
   ]
  },
  {
   "cell_type": "markdown",
   "metadata": {},
   "source": [
    "We may also invoke **ScisTree2** with **Neighbor Joining (NJ)** by setting `nj=True` to obtain **only the initial tree**.\n",
    "\n",
    "> ℹ️**Note:** In this toy example, **Neighbor Joining** performs quite well and produces a tree close to the optimal.\n"
   ]
  },
  {
   "cell_type": "code",
   "execution_count": 6,
   "metadata": {},
   "outputs": [
    {
     "name": "stdout",
     "output_type": "stream",
     "text": [
      "Imputed genotype from NJ: \n",
      "       cell1  cell2  cell3  cell4  cell5\n",
      "snp1      1      0      1      0      0\n",
      "snp2      0      1      0      1      0\n",
      "snp3      1      0      1      0      0\n",
      "snp4      0      0      0      0      1\n",
      "snp5      1      0      1      0      0\n",
      "snp6      1      1      1      1      0\n",
      "Newick of the NJ tree:  (((cell1,cell3),(cell2,cell4)),cell5);\n",
      "Likelihood of the NJ tree:  -6.271255186813891\n"
     ]
    }
   ],
   "source": [
    "caller_nj = s2.ScisTree2(threads=8, nj=True)\n",
    "tree_nj, imputed_genotype_nj, likelihood_nj = caller_nj.infer(gp)\n",
    "print('Imputed genotype from NJ: \\n', imputed_genotype_nj)\n",
    "print('Newick of the NJ tree: ', tree_nj)\n",
    "print('Likelihood of the NJ tree: ', likelihood_nj)"
   ]
  },
  {
   "cell_type": "markdown",
   "metadata": {},
   "source": [
    "We can also **evaluate a random or alternative tree** using the genotype probability matrix.  \n",
    "Using the same example as before, we evaluate a random tree structure.\n",
    "\n",
    "As expected, the **likelihood** of this alternative tree is **lower** than that of the optimal tree (−6.27)."
   ]
  },
  {
   "cell_type": "code",
   "execution_count": 7,
   "metadata": {},
   "outputs": [
    {
     "name": "stdout",
     "output_type": "stream",
     "text": [
      "Imputed genotype from SPR: \n",
      "       cell1  cell2  cell3  cell4  cell5\n",
      "snp1      1      1      1      0      1\n",
      "snp2      1      1      1      1      1\n",
      "snp3      1      1      1      0      1\n",
      "snp4      0      0      0      0      1\n",
      "snp5      1      1      1      0      1\n",
      "snp6      1      1      1      1      1\n",
      "Newick of the random tree:  (((cell2,cell3),(cell5,cell1)),cell4);\n",
      "Likelihood of the random tree:  -18.274574970677588\n"
     ]
    }
   ],
   "source": [
    "random_tree = '(((cell2,cell3),(cell5,cell1)),cell4);'\n",
    "imputed_genotype_random, likelihood_random = s2.evaluate(gp, random_tree)\n",
    "# imputed_genotype_random, likelihood_random, tree = s2.evaluate(gp, random_tree, return_tree=True) # or return a tree\n",
    "print('Imputed genotype from SPR: \\n', imputed_genotype_random)\n",
    "print('Newick of the random tree: ', random_tree)\n",
    "print('Likelihood of the random tree: ', likelihood_random)"
   ]
  },
  {
   "cell_type": "markdown",
   "metadata": {},
   "source": [
    "ScisTree2 also provides functionality for **tree visualization**.\n",
    "\n",
    "> ℹ️**Note:** ScisTree2 includes built-in support for visualizing **moderate-size** trees. For **very large trees**, it is recommended to use specialized external tools such as FigTree, iTOL, or ETE Toolkit.\n"
   ]
  },
  {
   "cell_type": "code",
   "execution_count": 8,
   "metadata": {},
   "outputs": [
    {
     "name": "stdout",
     "output_type": "stream",
     "text": [
      "           ┌cell5\n",
      " 4c71952b74┤\n",
      "           │                     ┌cell4\n",
      "           │          ┌871cc30e00┤\n",
      "           │          │          └cell2\n",
      "           └5036007f4f┤\n",
      "                      │          ┌cell3\n",
      "                      └664df69617┤\n",
      "                                 └cell1\n"
     ]
    }
   ],
   "source": [
    "tree.draw()"
   ]
  },
  {
   "cell_type": "code",
   "execution_count": null,
   "metadata": {},
   "outputs": [
    {
     "data": {
      "image/png": "[encoded data removed]",
      "text/plain": [
       "<Figure size 800x250 with 1 Axes>"
      ]
     },
     "metadata": {},
     "output_type": "display_data"
    }
   ],
   "source": [
    "# one can also plot the tree using `phytreeviz`\n",
    "tv = TreeViz(tree.output())\n",
    "fig = tv.plotfig()"
   ]
  },
  {
   "cell_type": "markdown",
   "metadata": {},
   "source": [
    "You can also find out where mutations are placed on the tree. The `node.mutations` attribute of a branch's ending node provides the mutation profile for that branch."
   ]
  },
  {
   "cell_type": "code",
   "execution_count": 10,
   "metadata": {},
   "outputs": [
    {
     "name": "stdout",
     "output_type": "stream",
     "text": [
      "Mutations at branch ending at cell5: ['snp4']\n",
      "Mutations at branch ending at 5036007f4f: ['snp6']\n",
      "Mutations at branch ending at 871cc30e00: ['snp2']\n",
      "Mutations at branch ending at 664df69617: ['snp1', 'snp3', 'snp5']\n",
      "Mutations at branch ending at cell4: []\n",
      "Mutations at branch ending at cell2: []\n",
      "Mutations at branch ending at cell3: []\n",
      "Mutations at branch ending at cell1: []\n",
      "Mutations at branch ending at 4c71952b74: []\n"
     ]
    }
   ],
   "source": [
    "for node in tree.get_all_nodes():\n",
    "    print(f'Mutations at branch ending at {tree[node].name}:', tree[node].mutations)"
   ]
  },
  {
   "cell_type": "markdown",
   "metadata": {},
   "source": [
    "You can inject branch information into a Newick string by passing a custom function. This function extracts the desired data, such as the number of mutations, from each node and incorporates it into the string.\n",
    "\n",
    "This allows you to represent the number of mutations as the branch length. With this Newick string, you can easily perform further analysis or visualization using other packages, for example, libraries like ete3 are well-suited for this purpose, although we won't cover that part here."
   ]
  },
  {
   "cell_type": "code",
   "execution_count": 11,
   "metadata": {},
   "outputs": [
    {
     "name": "stdout",
     "output_type": "stream",
     "text": [
      "(((cell1:0,cell3:0):3,(cell2:0,cell4:0):1):1,cell5:1):0;\n",
      "(((cell1:0,cell3:0):3,(cell2:0,cell4:0):1):1,cell5:1):0;\n"
     ]
    }
   ],
   "source": [
    "def get_num_mutations(node):\n",
    "    return len(node.mutations)\n",
    "\n",
    "print(tree.output(branch_length_func=get_num_mutations)) # Newick string format: branch lengths represent the number of mutations.\n",
    "\n",
    "print(tree.output(branch_length_func=lambda x: len(x.mutations))) # or simply, using a lambda expression."
   ]
  },
  {
   "cell_type": "markdown",
   "metadata": {},
   "source": [
    "Bootstrapping is the most common method for assessing branch support, applicable to distance-based, parsimony, and maximum likelihood trees. It's a resampling technique that gauges how consistently the data supports each clade.\n",
    "We can use Felsenstein's bootstrapping method to determine the tree's branch confidence."
   ]
  },
  {
   "cell_type": "code",
   "execution_count": 12,
   "metadata": {},
   "outputs": [
    {
     "name": "stdout",
     "output_type": "stream",
     "text": [
      "(((cell1:1.0,cell3:1.0):0.99,(cell2:1.0,cell4:1.0):0.73):0.0,cell5:1.0):1.0;\n"
     ]
    }
   ],
   "source": [
    "tree = caller.bootstrap(tree, gp, num_bootstrap=100)\n",
    "print(tree.output(branch_length_func=lambda x: x.branch_confidence))"
   ]
  },
  {
   "cell_type": "code",
   "execution_count": 13,
   "metadata": {},
   "outputs": [
    {
     "data": {
      "image/png": "[encoded data removed]",
      "text/plain": [
       "<Figure size 800x250 with 1 Axes>"
      ]
     },
     "metadata": {},
     "output_type": "display_data"
    }
   ],
   "source": [
    "tv = TreeViz(tree.output(branch_length_func=lambda x: len(x.mutations), confidence_func=lambda x: x.branch_confidence))\n",
    "tv.show_branch_length(color='red', label_formatter=lambda v: f\"#mut: {v:.2f}\")\n",
    "tv.show_confidence(color='blue', label_formatter=lambda v: f\"conf: {v:.2f}\")\n",
    "tv.show_scale_axis()\n",
    "fig = tv.plotfig()"
   ]
  },
  {
   "cell_type": "markdown",
   "metadata": {},
   "source": [
    "---\n",
    "### 🧬 **Example II: Toy Raw Reads Data**\n",
    "\n",
    "In this dataset, the input format remains a matrix of shape `(num_sites, num_cells)`.  \n",
    "However, instead of using **precomputed genotype probabilities**, **each entry is a tuple** representing raw sequencing read counts.\n",
    "\n",
    "*if the read counts are unknown, just use (0, 0).\n",
    "\n",
    "Each tuple has the form: `(ref_count, alt_count)`, where:\n",
    "- `ref_count` is the number of reads supporting the **reference (wild type)** allele\n",
    "- `alt_count` is the number of reads supporting the **mutation (alternative)** allele\n",
    "\n",
    "This format is suitable when you start from **raw read counts** rather than inferred genotype probabilities, enabling ScisTree2 to perform **probabilistic genotype modeling** internally before tree inference.\n"
   ]
  },
  {
   "cell_type": "markdown",
   "metadata": {},
   "source": [
    "This dataset, located in the `data` folder, contains **50 cells** and **100 SNPs**.  \n",
    "It was generated using [CellCoal](https://github.com/dapogon/cellcoal) with the following command:\n",
    "\n",
    "```bash\n",
    "cellcoal-1.2.0 -n5 -s10 -l100 -e1000 -b1 -j30 -p0 -D0.5 -B0 0.01 -C5 -E0 -otoys -y3 -v -1 -2 -6 -7 -9 -Y\n",
    "```\n",
    "Preview:\n",
    "\n",
    "|            | Cell 1 | Cell 2 | Cell 3 | Cell 4 | Cell 5 | Cell 6 | Cell 7 | Cell 8 | Cell 9 | Cell 10 |\n",
    "|------------|--------|--------|--------|--------|--------|--------|--------|--------|--------|---------|\n",
    "| SNP 1      | (4,1)  | (4,0)  | (5,1)  | (4,0)  | (1,0)  | (4,0)  | (6,0)  | (6,0)  | (5,0)  | (5,0)   |\n",
    "| SNP 2      | (4,0)  | (3,0)  | (7,1)  | (1,1)  | (3,0)  | (2,0)  | (10,0) | (11,0) | (1,0)  | (9,0)   |\n",
    "| SNP 3      | (4,5)  | (11,0) | (4,0)  | (3,0)  | (4,0)  | (3,0)  | (7,0)  | (0,0)  | (2,0)  | (4,0)   |\n",
    "| SNP 4      | (8,0)  | (2,0)  | (6,0)  | (1,0)  | (2,2)  | (3,5)  | (5,3)  | (1,3)  | (2,4)  | (8,0)   |\n",
    "| SNP 5      | (5,0)  | (9,0)  | (4,0)  | (3,0)  | (4,0)  | (3,0)  | (7,0)  | (4,1)  | (4,0)  | (5,0)   |\n",
    "\n",
    "> ℹ️ **Note**: Only the first 10 cells and 5 SNPs are shown here for illustration. The full dataset contains 100 SNPs × 50 cells.\n",
    "\n",
    "> ℹ️ **Note**: Use (0, 0) if there is any missing.\n"
   ]
  },
  {
   "cell_type": "markdown",
   "metadata": {},
   "source": [
    "We calculate the posterior genotype probability with the following settings:  \n",
    "- Allelic dropout rate: `ado=0.2`  \n",
    "- Sequencing error rate: `seqerr=0.01`  \n",
    "\n",
    "When `posterior=True` (default), the posterior probability $p(G \\mid D)$ is calculated given the allele frequency `af`.  \n",
    "The parameter `af` should be a `numpy.ndarray` with shape (num_sites, 1).\n",
    "\n",
    "If `af` is not provided or set to `None`, it will be automatically estimated from the current samples."
   ]
  },
  {
   "cell_type": "code",
   "execution_count": 14,
   "metadata": {},
   "outputs": [
    {
     "name": "stdout",
     "output_type": "stream",
     "text": [
      "(100, 50)\n"
     ]
    }
   ],
   "source": [
    "# one can generate the input directly from a reads matrix.\n",
    "reads = np.load('data/toy_raw_reads.npy', allow_pickle=True) # load simulated reads\n",
    "cell_names = [f'cell{i}' for i in range(50)]\n",
    "site_names = [f'snp{i}' for i in range(100)]\n",
    "gp = s2.probability.from_reads(reads, ado=0.2, seqerr=0.01, posterior=True, af=None, cell_names=cell_names, site_names=site_names)\n",
    "print(gp.shape)"
   ]
  },
  {
   "cell_type": "markdown",
   "metadata": {},
   "source": [
    "Or, simply from a `.csv` file."
   ]
  },
  {
   "cell_type": "code",
   "execution_count": 15,
   "metadata": {},
   "outputs": [],
   "source": [
    "# or from a .csv file containing reads information by setting source = 'read'.\n",
    "gp = s2.probability.from_csv('./data/toy_raw_reads.csv', source='read')"
   ]
  },
  {
   "cell_type": "markdown",
   "metadata": {},
   "source": [
    "We then proceed to perform inference under three different modes as what we did in the first example.\n"
   ]
  },
  {
   "cell_type": "code",
   "execution_count": 16,
   "metadata": {},
   "outputs": [],
   "source": [
    "# SPR local search\n",
    "caller_spr = s2.ScisTree2(threads=8)\n",
    "tree_spr, imputed_genotype_spr, likelihood_spr = caller_spr.infer(gp)\n",
    "# NNI local search\n",
    "caller_nni = s2.ScisTree2(nni=True, threads=8)\n",
    "tree_nni, imputed_genotype_nni, likelihood_nni = caller_nni.infer(gp)\n",
    "# NJ\n",
    "caller_nj = s2.ScisTree2(nj=True)\n",
    "tree_nj, imputed_genotype_nj, likelihood_nj = caller_nj.infer(gp)"
   ]
  },
  {
   "cell_type": "markdown",
   "metadata": {},
   "source": [
    "ScisTree2 operates on a heuristic algorithm, which means its execution time can vary. For users who need to control runtime and potentially stop the program early, the `max_iter` parameter is available. By setting `max_iter`, you can define the maximum number of local search steps performed."
   ]
  },
  {
   "cell_type": "code",
   "execution_count": 17,
   "metadata": {},
   "outputs": [
    {
     "name": "stdout",
     "output_type": "stream",
     "text": [
      "likelihood after 2 iterations: -1152.6682008798907\n",
      "the optimal likelihood: -1146.3643724474396\n"
     ]
    }
   ],
   "source": [
    "caller_early_stop = s2.ScisTree2(threads=8, max_iter=2)\n",
    "tree_early_stop, imputed_genotype_early_stop, likelihood_early_stop = caller_early_stop.infer(gp)\n",
    "print('likelihood after 2 iterations:', likelihood_early_stop)\n",
    "print('the optimal likelihood:', likelihood_spr)"
   ]
  },
  {
   "cell_type": "markdown",
   "metadata": {},
   "source": [
    "Evaluate branch confidence"
   ]
  },
  {
   "cell_type": "code",
   "execution_count": 18,
   "metadata": {},
   "outputs": [
    {
     "name": "stdout",
     "output_type": "stream",
     "text": [
      "((((((((((((cell24:1.0,cell43:1.0):0.69,cell22:1.0):0.19,cell39:1.0):0.09,((cell15:1.0,cell46:1.0):0.06,cell40:1.0):0.04):0.08,((((cell49:1.0,cell5:1.0):0.11,cell28:1.0):0.14,cell3:1.0):0.08,(cell32:1.0,cell4:1.0):0.4):0.0):0.0,cell19:1.0):0.0,cell8:1.0):0.0,((((cell13:1.0,cell38:1.0):0.57,cell21:1.0):0.32,cell20:1.0):0.23,cell42:1.0):0.44):0.02,(((cell31:1.0,cell41:1.0):0.37,cell25:1.0):0.25,cell23:1.0):0.36):0.07,cell44:1.0):0.41,cell29:1.0):1.0,(((((((((cell16:1.0,cell17:1.0):0.25,(cell27:1.0,cell2:1.0):0.13):0.08,cell30:1.0):0.05,cell11:1.0):0.13,((cell14:1.0,cell26:1.0):0.44,cell47:1.0):0.21):0.23,cell48:1.0):0.14,((((cell36:1.0,cell9:1.0):0.39,cell1:1.0):0.12,cell6:1.0):0.09,((cell0:1.0,cell34:1.0):0.57,(cell33:1.0,cell45:1.0):0.62):0.34):0.0):0.0,((((cell10:1.0,cell12:1.0):0.49,cell37:1.0):0.84,cell35:1.0):0.49,cell18:1.0):0.49):0.3,cell7:1.0):1.0):1.0;\n"
     ]
    }
   ],
   "source": [
    "tree_spr_bootstrap = caller_spr.bootstrap(tree_spr, gp)\n",
    "print(tree_spr_bootstrap.output(branch_length_func=lambda x: x.branch_confidence))"
   ]
  },
  {
   "cell_type": "code",
   "execution_count": 19,
   "metadata": {},
   "outputs": [
    {
     "data": {
      "image/png": "[encoded data removed]",
      "text/plain": [
       "<Figure size 1500x2500 with 1 Axes>"
      ]
     },
     "metadata": {},
     "output_type": "display_data"
    }
   ],
   "source": [
    "# add 0.5 to each branch to avoid 0 length.\n",
    "tv = TreeViz(tree_spr_bootstrap.output(branch_length_func=lambda x: len(x.mutations)+0.5, confidence_func=lambda x: x.branch_confidence), width=15)\n",
    "# tv.show_confidence(bbox=dict(facecolor='red', alpha=0.5))\n",
    "for node in tree_spr_bootstrap.get_all_nodes():\n",
    "    leaf_names = [leaf.name for leaf in tree_spr_bootstrap[node].get_leaves()]\n",
    "    tv.marker(leaf_names, marker=\"D\", color='red', alpha=tree_spr_bootstrap[node].branch_confidence)\n",
    "fig = tv.plotfig()"
   ]
  },
  {
   "cell_type": "markdown",
   "metadata": {},
   "source": [
    "### Evaluation Metrics\n",
    "\n",
    "Our package provides several metrics to evaluate the results. These include:\n",
    "\n",
    "- Genotype Accuracy:  \n",
    "  `scistree2.metric.genotype_accuracy(true_genotype, genotype)`\n",
    "- Tree Accuracy (defined as 1 minus the normalized Robinson-Foulds distance):  \n",
    "  `scistree2.metric.tree_accuracy(true_tree, tree)`\n",
    "\n",
    "- Ancestor-Descendant Error:  \n",
    "  `scistree2.metric.ancestor_descendant_error(true_mutation, mutation)`\n",
    "\n",
    "- Different Lineage Error:  \n",
    "  `scistree2.metric.different_lineage_error(true_mutaiton, mutation)`\n",
    "\n",
    "Usage examples are shown below:\n"
   ]
  },
  {
   "cell_type": "code",
   "execution_count": 20,
   "metadata": {},
   "outputs": [
    {
     "name": "stdout",
     "output_type": "stream",
     "text": [
      "Newick of true tree (((((((((cell14,cell26),cell27),cell11),((cell16,cell47),cell2)),cell17),cell30),((((cell36,cell6),cell7),cell48),cell1)),(((((cell10,cell18),(cell12,cell37)),cell35),cell9),(((cell0,cell34),cell45),cell33))),(((((((cell15,cell29),cell44),cell8),((cell3,cell49),cell28)),(((cell13,cell38),(cell20,cell21)),cell42)),(((((cell23,cell31),cell22),cell41),(cell19,cell25)),(((cell24,cell43),cell39),((cell46,cell5),cell40)))),(cell32,cell4)));\n",
      "True genotype (100, 50)\n"
     ]
    }
   ],
   "source": [
    "# get groundtruth\n",
    "true_genotype = np.loadtxt('data/true_genotype.txt') # load true genotype provided by CellCoal\n",
    "with open('data/true_tree.nwk', 'r') as f: \n",
    "    true_tree_nwk = f.readline().strip() # load true tree provided by CellCoal\n",
    "true_tree = s2.util.from_newick(true_tree_nwk)\n",
    "print('Newick of true tree', true_tree)\n",
    "print('True genotype', true_genotype.shape)"
   ]
  },
  {
   "cell_type": "code",
   "execution_count": 21,
   "metadata": {},
   "outputs": [
    {
     "data": {
      "text/html": [
       "<div>\n",
       "<style scoped>\n",
       "    .dataframe tbody tr th:only-of-type {\n",
       "        vertical-align: middle;\n",
       "    }\n",
       "\n",
       "    .dataframe tbody tr th {\n",
       "        vertical-align: top;\n",
       "    }\n",
       "\n",
       "    .dataframe thead th {\n",
       "        text-align: right;\n",
       "    }\n",
       "</style>\n",
       "<table border=\"1\" class=\"dataframe\">\n",
       "  <thead>\n",
       "    <tr style=\"text-align: right;\">\n",
       "      <th></th>\n",
       "      <th>Method</th>\n",
       "      <th>Genotype Accuracy</th>\n",
       "      <th>Tree Accuracy</th>\n",
       "      <th>Ancestor-Descendant Error</th>\n",
       "      <th>Different Lineage Error</th>\n",
       "    </tr>\n",
       "  </thead>\n",
       "  <tbody>\n",
       "    <tr>\n",
       "      <th>0</th>\n",
       "      <td>SPR</td>\n",
       "      <td>0.9826</td>\n",
       "      <td>0.250000</td>\n",
       "      <td>0.479858</td>\n",
       "      <td>0.023928</td>\n",
       "    </tr>\n",
       "    <tr>\n",
       "      <th>1</th>\n",
       "      <td>NNI</td>\n",
       "      <td>0.9802</td>\n",
       "      <td>0.166667</td>\n",
       "      <td>0.478591</td>\n",
       "      <td>0.024925</td>\n",
       "    </tr>\n",
       "    <tr>\n",
       "      <th>2</th>\n",
       "      <td>NJ</td>\n",
       "      <td>0.9766</td>\n",
       "      <td>0.083333</td>\n",
       "      <td>0.503420</td>\n",
       "      <td>0.024925</td>\n",
       "    </tr>\n",
       "  </tbody>\n",
       "</table>\n",
       "</div>"
      ],
      "text/plain": [
       "  Method  Genotype Accuracy  Tree Accuracy  Ancestor-Descendant Error  \\\n",
       "0    SPR             0.9826       0.250000                   0.479858   \n",
       "1    NNI             0.9802       0.166667                   0.478591   \n",
       "2     NJ             0.9766       0.083333                   0.503420   \n",
       "\n",
       "   Different Lineage Error  \n",
       "0                 0.023928  \n",
       "1                 0.024925  \n",
       "2                 0.024925  "
      ]
     },
     "execution_count": 21,
     "metadata": {},
     "output_type": "execute_result"
    }
   ],
   "source": [
    "gacc_spr = s2.metric.genotype_accuarcy(true_genotype, imputed_genotype_spr.values)\n",
    "gacc_nni = s2.metric.genotype_accuarcy(true_genotype, imputed_genotype_nni.values)\n",
    "gacc_nj = s2.metric.genotype_accuarcy(true_genotype, imputed_genotype_nj.values)\n",
    "\n",
    "tacc_spr = s2.metric.tree_accuracy(true_tree, tree_spr)\n",
    "tacc_nni = s2.metric.tree_accuracy(true_tree, tree_nni)\n",
    "tacc_nj = s2.metric.tree_accuracy(true_tree, tree_nj)\n",
    "\n",
    "mutation_true = s2.metric.get_ancestor_descendant_pairs(true_genotype)\n",
    "mutations_spr = s2.metric.get_ancestor_descendant_pairs(imputed_genotype_spr.values)\n",
    "mutations_nni = s2.metric.get_ancestor_descendant_pairs(imputed_genotype_nni.values)\n",
    "mutations_nj = s2.metric.get_ancestor_descendant_pairs(imputed_genotype_nj.values)\n",
    "ad_err_spr = s2.metric.ancestor_descendant_error(mutation_true, mutations_spr)\n",
    "ad_err_nni = s2.metric.ancestor_descendant_error(mutation_true, mutations_nni)\n",
    "ad_err_nj = s2.metric.ancestor_descendant_error(mutation_true, mutations_nj)\n",
    "dl_err_spr = s2.metric.different_lineage_error(mutation_true, mutations_spr)\n",
    "dl_err_nni = s2.metric.different_lineage_error(mutation_true, mutations_nni)\n",
    "dl_err_nj = s2.metric.different_lineage_error(mutation_true, mutations_nj)\n",
    "\n",
    "metrics = {\n",
    "    \"Method\": [\"SPR\", \"NNI\", \"NJ\"],\n",
    "    \"Genotype Accuracy\": [gacc_spr, gacc_nni, gacc_nj],\n",
    "    \"Tree Accuracy\": [tacc_spr, tacc_nni, tacc_nj],\n",
    "    \"Ancestor-Descendant Error\": [ad_err_spr, ad_err_nni, ad_err_nj],\n",
    "    \"Different Lineage Error\": [dl_err_spr, dl_err_nni, dl_err_nj]\n",
    "}\n",
    "\n",
    "# Convert to DataFrame\n",
    "df_metrics = pd.DataFrame(metrics)\n",
    "df_metrics"
   ]
  },
  {
   "cell_type": "markdown",
   "metadata": {},
   "source": [
    "----\n",
    "### 🧬 **Example III: From VCF File (reads)**\n",
    "\n",
    "In this example, we'll demonstrate how to start directly from a VCF (Variant Call Format) file. This approach is ideal if you already have a VCF file generated by other software, provided it contains the necessary read count information.\n"
   ]
  },
  {
   "cell_type": "code",
   "execution_count": 22,
   "metadata": {},
   "outputs": [
    {
     "name": "stdout",
     "output_type": "stream",
     "text": [
      "Info: Skipping line because AD not found in FORMAT: CHR[chr1], POS[250]\n",
      "          CELL_1  CELL_2  CELL_3  CELL_4  CELL_5\n",
      "chr1:100    0.00    0.88    0.00    0.00    0.88\n",
      "chr1:150    0.95    0.00    0.50    0.95    0.00\n",
      "chr1:200    0.00    0.00    0.77    0.00    0.00\n"
     ]
    }
   ],
   "source": [
    "vcf_path = './data/example.vcf'\n",
    "gp = s2.probability.from_vcf(vcf_path, ado=0.2, seqerr=0.01, posterior=True, af=None)\n",
    "print(gp)"
   ]
  },
  {
   "cell_type": "code",
   "execution_count": 23,
   "metadata": {},
   "outputs": [
    {
     "name": "stdout",
     "output_type": "stream",
     "text": [
      "Imputed genotype from SPR: \n",
      "           CELL_1  CELL_2  CELL_3  CELL_4  CELL_5\n",
      "chr1:100       1       0       1       1       0\n",
      "chr1:150       0       1       0       0       1\n",
      "chr1:200       1       1       1       1       1\n",
      "Newick of the SPR tree:  (((CELL_1,CELL_4),CELL_3),(CELL_2,CELL_5));\n",
      "Likelihood of the NJ tree:  -2.50748619740126\n"
     ]
    }
   ],
   "source": [
    "# SPR local search\n",
    "caller_vcf = s2.ScisTree2(threads=8)\n",
    "tree_vcf, imputed_genotype_vcf, likelihood_vcf = caller_vcf.infer(gp)\n",
    "print('Imputed genotype from SPR: \\n', imputed_genotype_vcf)\n",
    "print('Newick of the SPR tree: ', tree_vcf)\n",
    "print('Likelihood of the NJ tree: ', likelihood_vcf)"
   ]
  }
 ],
 "metadata": {
  "kernelspec": {
   "display_name": "scistree2",
   "language": "python",
   "name": "python3"
  },
  "language_info": {
   "codemirror_mode": {
    "name": "ipython",
    "version": 3
   },
   "file_extension": ".py",
   "mimetype": "text/x-python",
   "name": "python",
   "nbconvert_exporter": "python",
   "pygments_lexer": "ipython3",
   "version": "3.10.18"
  }
 },
 "nbformat": 4,
 "nbformat_minor": 2
}
