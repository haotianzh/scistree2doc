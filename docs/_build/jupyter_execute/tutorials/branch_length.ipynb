{
 "cells": [
  {
   "cell_type": "markdown",
   "id": "34a786e3",
   "metadata": {},
   "source": [
    "# Map mutations on branches"
   ]
  },
  {
   "cell_type": "markdown",
   "id": "54994eb0",
   "metadata": {},
   "source": [
    "Load our toy example"
   ]
  },
  {
   "cell_type": "code",
   "execution_count": 1,
   "id": "09d32454",
   "metadata": {},
   "outputs": [],
   "source": [
    "import scistree2 as s2\n",
    "import numpy as np \n",
    "import pandas as pd\n",
    "gp = s2.probability.from_csv('./data/toy_probs.csv')"
   ]
  },
  {
   "cell_type": "markdown",
   "id": "62bcb6a6",
   "metadata": {},
   "source": [
    "Run inference"
   ]
  },
  {
   "cell_type": "code",
   "execution_count": 2,
   "id": "a7fb657a",
   "metadata": {},
   "outputs": [
    {
     "name": "stdout",
     "output_type": "stream",
     "text": [
      "Imputed genotype from SPR: \n",
      "       cell1  cell2  cell3  cell4  cell5\n",
      "snp1      1      0      1      0      0\n",
      "snp2      0      1      0      1      0\n",
      "snp3      1      0      1      0      0\n",
      "snp4      0      0      0      0      1\n",
      "snp5      1      0      1      0      0\n",
      "snp6      1      1      1      1      0\n",
      "Newick of the SPR tree:  (((cell1,cell3),(cell2,cell4)),cell5);\n",
      "Likelihood of the SPR tree:  -6.271255186813891\n"
     ]
    }
   ],
   "source": [
    "caller = s2.ScisTree2(threads=8) # use 8 threads\n",
    "tree, imputed_genotype, likelihood = caller.infer(gp) # run Scistree2 inference\n",
    "print('Imputed genotype from SPR: \\n', imputed_genotype)\n",
    "print('Newick of the SPR tree: ', tree)\n",
    "print('Likelihood of the SPR tree: ', likelihood)"
   ]
  },
  {
   "cell_type": "markdown",
   "id": "7e98dab4",
   "metadata": {},
   "source": [
    "Take a look at the inferred tree."
   ]
  },
  {
   "cell_type": "code",
   "execution_count": 3,
   "id": "7907f3c1",
   "metadata": {},
   "outputs": [
    {
     "name": "stdout",
     "output_type": "stream",
     "text": [
      "           ┌cell5\n",
      " 564f445691┤\n",
      "           │                     ┌cell4\n",
      "           │          ┌8aa238bf62┤\n",
      "           │          │          └cell2\n",
      "           └8c5a57e560┤\n",
      "                      │          ┌cell3\n",
      "                      └ba4d175664┤\n",
      "                                 └cell1\n"
     ]
    }
   ],
   "source": [
    "tree.draw()"
   ]
  },
  {
   "cell_type": "markdown",
   "id": "4789e0a7",
   "metadata": {},
   "source": [
    "You can now find out where mutations are placed on the tree. The `node.mutations` attribute of a branch's ending node provides the mutation profile for that branch."
   ]
  },
  {
   "cell_type": "code",
   "execution_count": 4,
   "id": "70e8a01d",
   "metadata": {},
   "outputs": [
    {
     "name": "stdout",
     "output_type": "stream",
     "text": [
      "Mutations at branch ending at cell5: ['snp4']\n",
      "Mutations at branch ending at 8c5a57e560: ['snp6']\n",
      "Mutations at branch ending at 8aa238bf62: ['snp2']\n",
      "Mutations at branch ending at ba4d175664: ['snp1', 'snp3', 'snp5']\n",
      "Mutations at branch ending at cell4: []\n",
      "Mutations at branch ending at cell2: []\n",
      "Mutations at branch ending at cell3: []\n",
      "Mutations at branch ending at cell1: []\n",
      "Mutations at branch ending at 564f445691: []\n"
     ]
    }
   ],
   "source": [
    "for node in tree.get_all_nodes():\n",
    "    print(f'Mutations at branch ending at {tree[node].name}:', tree[node].mutations)"
   ]
  },
  {
   "cell_type": "markdown",
   "id": "ca2463bc",
   "metadata": {},
   "source": [
    "You can inject branch information into a Newick string by passing a custom function. This function extracts the desired data, such as the number of mutations, from each node and incorporates it into the string.\n",
    "\n",
    "This allows you to represent the number of mutations as the branch length. With this Newick string, you can easily perform further analysis or visualization using other packages, for example, libraries like ete3 are well-suited for this purpose, although we won't cover that part here."
   ]
  },
  {
   "cell_type": "code",
   "execution_count": 5,
   "id": "48cd0225",
   "metadata": {},
   "outputs": [
    {
     "name": "stdout",
     "output_type": "stream",
     "text": [
      "(((cell1:0,cell3:0):3,(cell2:0,cell4:0):1):1,cell5:1):0;\n",
      "(((cell1:0,cell3:0):3,(cell2:0,cell4:0):1):1,cell5:1):0;\n"
     ]
    }
   ],
   "source": [
    "def get_num_mutations(node):\n",
    "    return len(node.mutations)\n",
    "\n",
    "print(tree.output(branch_length_func=get_num_mutations)) # Newick string format: branch lengths represent the number of mutations.\n",
    "\n",
    "print(tree.output(branch_length_func=lambda x: len(x.mutations))) # or simply, using a lambda expression."
   ]
  }
 ],
 "metadata": {
  "kernelspec": {
   "display_name": "scistree2",
   "language": "python",
   "name": "python3"
  },
  "language_info": {
   "codemirror_mode": {
    "name": "ipython",
    "version": 3
   },
   "file_extension": ".py",
   "mimetype": "text/x-python",
   "name": "python",
   "nbconvert_exporter": "python",
   "pygments_lexer": "ipython3",
   "version": "3.10.18"
  }
 },
 "nbformat": 4,
 "nbformat_minor": 5
}