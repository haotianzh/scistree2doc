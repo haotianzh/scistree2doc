{
 "cells": [
  {
   "cell_type": "markdown",
   "id": "bb44ce99",
   "metadata": {},
   "source": [
    "# Evaluate the inferred tree"
   ]
  },
  {
   "cell_type": "markdown",
   "id": "2aaa232e",
   "metadata": {},
   "source": [
    "ScisTree2 provides several metrics to evaluate the results. These include:\n",
    "\n",
    "- Genotype Accuracy:  \n",
    "  `scistree2.metric.genotype_accuracy(true_genotype, genotype)`\n",
    "- Tree Accuracy (defined as 1 minus the normalized Robinson-Foulds distance):  \n",
    "  `scistree2.metric.tree_accuracy(true_tree, tree)`\n",
    "\n",
    "- Ancestor-Descendant Error:  \n",
    "  `scistree2.metric.ancestor_descendant_error(true_mutation, mutation)`\n",
    "\n",
    "- Different Lineage Error:  \n",
    "  `scistree2.metric.different_lineage_error(true_mutaiton, mutation)`\n",
    "\n",
    "Usage examples are shown below:\n"
   ]
  },
  {
   "cell_type": "markdown",
   "id": "08267bcb",
   "metadata": {},
   "source": [
    "Load the prepared dataset and run inference using SPR, NNI, and NJ respectively."
   ]
  },
  {
   "cell_type": "code",
   "execution_count": 1,
   "id": "668acc71",
   "metadata": {},
   "outputs": [],
   "source": [
    "import scistree2 as s2\n",
    "import numpy as np \n",
    "import pandas as pd\n",
    "\n",
    "\n",
    "gp = s2.probability.from_csv('./data/toy_raw_reads.csv', source='read')\n",
    "\n",
    "# SPR local search\n",
    "caller_spr = s2.ScisTree2(threads=8)\n",
    "tree_spr, imputed_genotype_spr, likelihood_spr = caller_spr.infer(gp)\n",
    "# NNI local search\n",
    "caller_nni = s2.ScisTree2(nni=True, threads=8)\n",
    "tree_nni, imputed_genotype_nni, likelihood_nni = caller_nni.infer(gp)\n",
    "# NJ\n",
    "caller_nj = s2.ScisTree2(nj=True)\n",
    "tree_nj, imputed_genotype_nj, likelihood_nj = caller_nj.infer(gp)"
   ]
  },
  {
   "cell_type": "markdown",
   "id": "8e091fd4",
   "metadata": {},
   "source": [
    "Load the ground truth if you have."
   ]
  },
  {
   "cell_type": "code",
   "execution_count": 2,
   "id": "8ee1aa7b",
   "metadata": {},
   "outputs": [
    {
     "name": "stdout",
     "output_type": "stream",
     "text": [
      "Newick of true tree (((((((((cell14,cell26),cell27),cell11),((cell16,cell47),cell2)),cell17),cell30),((((cell36,cell6),cell7),cell48),cell1)),(((((cell10,cell18),(cell12,cell37)),cell35),cell9),(((cell0,cell34),cell45),cell33))),(((((((cell15,cell29),cell44),cell8),((cell3,cell49),cell28)),(((cell13,cell38),(cell20,cell21)),cell42)),(((((cell23,cell31),cell22),cell41),(cell19,cell25)),(((cell24,cell43),cell39),((cell46,cell5),cell40)))),(cell32,cell4)));\n",
      "True genotype (100, 50)\n"
     ]
    }
   ],
   "source": [
    "# get groundtruth\n",
    "true_genotype = np.loadtxt('data/true_genotype.txt') # load true genotype provided by CellCoal\n",
    "with open('data/true_tree.nwk', 'r') as f: \n",
    "    true_tree_nwk = f.readline().strip() # load true tree provided by CellCoal\n",
    "true_tree = s2.util.from_newick(true_tree_nwk)\n",
    "print('Newick of true tree', true_tree)\n",
    "print('True genotype', true_genotype.shape)"
   ]
  },
  {
   "cell_type": "markdown",
   "id": "e92f51b2",
   "metadata": {},
   "source": [
    "Evaluate the genotype accuracy (MAPE between imputed genotype and the ground truth)."
   ]
  },
  {
   "cell_type": "code",
   "execution_count": 3,
   "id": "b20eb915",
   "metadata": {},
   "outputs": [],
   "source": [
    "gacc_spr = s2.metric.genotype_accuarcy(true_genotype, imputed_genotype_spr.values)\n",
    "gacc_nni = s2.metric.genotype_accuarcy(true_genotype, imputed_genotype_nni.values)\n",
    "gacc_nj = s2.metric.genotype_accuarcy(true_genotype, imputed_genotype_nj.values)"
   ]
  },
  {
   "cell_type": "markdown",
   "id": "e2a26e74",
   "metadata": {},
   "source": [
    "Evaluate the tree accuracy using $1 - RF_{norm}(t_1, t_2)$, we use normalized Robinson-Foulds distance here."
   ]
  },
  {
   "cell_type": "code",
   "execution_count": 4,
   "id": "ac725cdb",
   "metadata": {},
   "outputs": [],
   "source": [
    "tacc_spr = s2.metric.tree_accuracy(true_tree, tree_spr)\n",
    "tacc_nni = s2.metric.tree_accuracy(true_tree, tree_nni)\n",
    "tacc_nj = s2.metric.tree_accuracy(true_tree, tree_nj)"
   ]
  },
  {
   "cell_type": "markdown",
   "id": "088b019c",
   "metadata": {},
   "source": [
    "Next, we calculate the Ancestor-Descendant Error and Different Lineage Error. Before doing this, we need to get the ancestor-descendant pairs."
   ]
  },
  {
   "cell_type": "code",
   "execution_count": 5,
   "id": "410c3d15",
   "metadata": {},
   "outputs": [],
   "source": [
    "mutation_true = s2.metric.get_ancestor_descendant_pairs(true_genotype)\n",
    "mutations_spr = s2.metric.get_ancestor_descendant_pairs(imputed_genotype_spr.values)\n",
    "mutations_nni = s2.metric.get_ancestor_descendant_pairs(imputed_genotype_nni.values)\n",
    "mutations_nj = s2.metric.get_ancestor_descendant_pairs(imputed_genotype_nj.values)"
   ]
  },
  {
   "cell_type": "markdown",
   "id": "e2a7fbec",
   "metadata": {},
   "source": [
    "Then, calculate those errors."
   ]
  },
  {
   "cell_type": "code",
   "execution_count": 6,
   "id": "3b560f97",
   "metadata": {},
   "outputs": [],
   "source": [
    "ad_err_spr = s2.metric.ancestor_descendant_error(mutation_true, mutations_spr)\n",
    "ad_err_nni = s2.metric.ancestor_descendant_error(mutation_true, mutations_nni)\n",
    "ad_err_nj = s2.metric.ancestor_descendant_error(mutation_true, mutations_nj)\n",
    "dl_err_spr = s2.metric.different_lineage_error(mutation_true, mutations_spr)\n",
    "dl_err_nni = s2.metric.different_lineage_error(mutation_true, mutations_nni)\n",
    "dl_err_nj = s2.metric.different_lineage_error(mutation_true, mutations_nj)"
   ]
  },
  {
   "cell_type": "markdown",
   "id": "e5e29116",
   "metadata": {},
   "source": [
    "Check the results. It is clear to see SPR local search usually performs better."
   ]
  },
  {
   "cell_type": "code",
   "execution_count": 7,
   "id": "ff6313e1",
   "metadata": {},
   "outputs": [
    {
     "data": {
      "text/html": [
       "<div>\n",
       "<style scoped>\n",
       "    .dataframe tbody tr th:only-of-type {\n",
       "        vertical-align: middle;\n",
       "    }\n",
       "\n",
       "    .dataframe tbody tr th {\n",
       "        vertical-align: top;\n",
       "    }\n",
       "\n",
       "    .dataframe thead th {\n",
       "        text-align: right;\n",
       "    }\n",
       "</style>\n",
       "<table border=\"1\" class=\"dataframe\">\n",
       "  <thead>\n",
       "    <tr style=\"text-align: right;\">\n",
       "      <th></th>\n",
       "      <th>Method</th>\n",
       "      <th>Genotype Accuracy</th>\n",
       "      <th>Tree Accuracy</th>\n",
       "      <th>Ancestor-Descendant Error</th>\n",
       "      <th>Different Lineage Error</th>\n",
       "    </tr>\n",
       "  </thead>\n",
       "  <tbody>\n",
       "    <tr>\n",
       "      <th>0</th>\n",
       "      <td>SPR</td>\n",
       "      <td>0.9826</td>\n",
       "      <td>0.250000</td>\n",
       "      <td>0.479858</td>\n",
       "      <td>0.023928</td>\n",
       "    </tr>\n",
       "    <tr>\n",
       "      <th>1</th>\n",
       "      <td>NNI</td>\n",
       "      <td>0.9802</td>\n",
       "      <td>0.166667</td>\n",
       "      <td>0.478591</td>\n",
       "      <td>0.024925</td>\n",
       "    </tr>\n",
       "    <tr>\n",
       "      <th>2</th>\n",
       "      <td>NJ</td>\n",
       "      <td>0.9766</td>\n",
       "      <td>0.083333</td>\n",
       "      <td>0.503420</td>\n",
       "      <td>0.024925</td>\n",
       "    </tr>\n",
       "  </tbody>\n",
       "</table>\n",
       "</div>"
      ],
      "text/plain": [
       "  Method  Genotype Accuracy  Tree Accuracy  Ancestor-Descendant Error  \\\n",
       "0    SPR             0.9826       0.250000                   0.479858   \n",
       "1    NNI             0.9802       0.166667                   0.478591   \n",
       "2     NJ             0.9766       0.083333                   0.503420   \n",
       "\n",
       "   Different Lineage Error  \n",
       "0                 0.023928  \n",
       "1                 0.024925  \n",
       "2                 0.024925  "
      ]
     },
     "execution_count": 7,
     "metadata": {},
     "output_type": "execute_result"
    }
   ],
   "source": [
    "metrics = {\n",
    "    \"Method\": [\"SPR\", \"NNI\", \"NJ\"],\n",
    "    \"Genotype Accuracy\": [gacc_spr, gacc_nni, gacc_nj],\n",
    "    \"Tree Accuracy\": [tacc_spr, tacc_nni, tacc_nj],\n",
    "    \"Ancestor-Descendant Error\": [ad_err_spr, ad_err_nni, ad_err_nj],\n",
    "    \"Different Lineage Error\": [dl_err_spr, dl_err_nni, dl_err_nj]\n",
    "}\n",
    "\n",
    "# Convert to DataFrame\n",
    "df_metrics = pd.DataFrame(metrics)\n",
    "df_metrics"
   ]
  }
 ],
 "metadata": {
  "kernelspec": {
   "display_name": "scistree2",
   "language": "python",
   "name": "python3"
  },
  "language_info": {
   "codemirror_mode": {
    "name": "ipython",
    "version": 3
   },
   "file_extension": ".py",
   "mimetype": "text/x-python",
   "name": "python",
   "nbconvert_exporter": "python",
   "pygments_lexer": "ipython3",
   "version": "3.10.18"
  }
 },
 "nbformat": 4,
 "nbformat_minor": 5
}