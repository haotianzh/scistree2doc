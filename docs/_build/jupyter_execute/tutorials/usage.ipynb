{
 "cells": [
  {
   "cell_type": "markdown",
   "id": "8bd3bf1a",
   "metadata": {},
   "source": [
    "# Basic usage\n",
    "\n",
    "Import ScisTree2 as:"
   ]
  },
  {
   "cell_type": "code",
   "execution_count": 1,
   "id": "3a58847a",
   "metadata": {},
   "outputs": [
    {
     "ename": "ModuleNotFoundError",
     "evalue": "No module named 'scistree2'",
     "output_type": "error",
     "traceback": [
      "\u001b[31m---------------------------------------------------------------------------\u001b[39m",
      "\u001b[31mModuleNotFoundError\u001b[39m                       Traceback (most recent call last)",
      "\u001b[36mCell\u001b[39m\u001b[36m \u001b[39m\u001b[32mIn[1]\u001b[39m\u001b[32m, line 3\u001b[39m\n\u001b[32m      1\u001b[39m \u001b[38;5;28;01mimport\u001b[39;00m\u001b[38;5;250m \u001b[39m\u001b[34;01mnumpy\u001b[39;00m\u001b[38;5;250m \u001b[39m\u001b[38;5;28;01mas\u001b[39;00m\u001b[38;5;250m \u001b[39m\u001b[34;01mnp\u001b[39;00m \n\u001b[32m      2\u001b[39m \u001b[38;5;28;01mimport\u001b[39;00m\u001b[38;5;250m \u001b[39m\u001b[34;01mpandas\u001b[39;00m\u001b[38;5;250m \u001b[39m\u001b[38;5;28;01mas\u001b[39;00m\u001b[38;5;250m \u001b[39m\u001b[34;01mpd\u001b[39;00m\n\u001b[32m----> \u001b[39m\u001b[32m3\u001b[39m \u001b[38;5;28;01mimport\u001b[39;00m\u001b[38;5;250m \u001b[39m\u001b[34;01mscistree2\u001b[39;00m\u001b[38;5;250m \u001b[39m\u001b[38;5;28;01mas\u001b[39;00m\u001b[38;5;250m \u001b[39m\u001b[34;01ms2\u001b[39;00m\n",
      "\u001b[31mModuleNotFoundError\u001b[39m: No module named 'scistree2'"
     ]
    }
   ],
   "source": [
    "import numpy as np \n",
    "import pandas as pd\n",
    "import scistree2 as s2"
   ]
  },
  {
   "cell_type": "markdown",
   "id": "a6a8b39c",
   "metadata": {},
   "source": [
    "Initialize a ScisTree2 caller with 10 threads:"
   ]
  },
  {
   "cell_type": "code",
   "execution_count": 16,
   "id": "af448437",
   "metadata": {},
   "outputs": [],
   "source": [
    "caller = s2.ScisTree2(threads=10)"
   ]
  },
  {
   "cell_type": "markdown",
   "id": "dc37ae5b",
   "metadata": {},
   "source": [
    "ScisTree2 takes a `GenotypProbability` object as input. ScisTree2 provides many ways to construct that `GenotypProbability` objects from your own data, check the [next chapter](./input.ipynb). Here, we use a pre-calculated probabilities for illustration."
   ]
  },
  {
   "cell_type": "markdown",
   "id": "dfd8fd40",
   "metadata": {},
   "source": [
    "In this example, we provide a small toy dataset where rows represent SNPs and columns represent cells.  \n",
    "Each entry in the matrix denotes the probability of being the **wild type** (reference).\n",
    "\n",
    "This format is suitable when you already have probabilistic genotypes derived from upstream processing.\n",
    "\n",
    "```{note}\n",
    "Use 0.5 if it is missing.\n",
    "```"
   ]
  },
  {
   "cell_type": "code",
   "execution_count": 7,
   "id": "7f6dbcd0",
   "metadata": {},
   "outputs": [
    {
     "name": "stdout",
     "output_type": "stream",
     "text": [
      "      cell1  cell2  cell3  cell4  cell5\n",
      "snp1   0.01   0.60   0.08   0.80   0.70\n",
      "snp2   0.80   0.02   0.70   0.01   0.30\n",
      "snp3   0.02   0.80   0.02   0.80   0.90\n",
      "snp4   0.90   0.90   0.80   0.80   0.02\n",
      "snp5   0.01   0.80   0.01   0.80   0.90\n",
      "snp6   0.05   0.02   0.70   0.05   0.90\n"
     ]
    }
   ],
   "source": [
    "# one can generate the input directly from the probability matrix.\n",
    "probs = np.array([[0.01, 0.6, 0.08, 0.8, 0.7],\n",
    "                 [0.8, 0.02, 0.7, 0.01, 0.3],\n",
    "                 [0.02, 0.8, 0.02, 0.8, 0.9],\n",
    "                 [0.9, 0.9, 0.8, 0.8, 0.02],\n",
    "                 [0.01, 0.8, 0.01, 0.8, 0.9],\n",
    "                 [0.05, 0.02, 0.7, 0.05, 0.9]]) \n",
    "cell_names = ['cell1', 'cell2', 'cell3', 'cell4', 'cell5']\n",
    "site_names = ['snp1', 'snp2', 'snp3', 'snp4', 'snp5', 'snp6']\n",
    "gp = s2.probability.from_probs(probs, cell_names, site_names)\n",
    "print(gp)"
   ]
  },
  {
   "cell_type": "markdown",
   "id": "d67c45d4",
   "metadata": {},
   "source": [
    "Now run ScisTree2:"
   ]
  },
  {
   "cell_type": "code",
   "execution_count": 8,
   "id": "6ee66f79",
   "metadata": {},
   "outputs": [
    {
     "name": "stdout",
     "output_type": "stream",
     "text": [
      "Imputed genotype from SPR: \n",
      "       cell1  cell2  cell3  cell4  cell5\n",
      "snp1      1      0      1      0      0\n",
      "snp2      0      1      0      1      0\n",
      "snp3      1      0      1      0      0\n",
      "snp4      0      0      0      0      1\n",
      "snp5      1      0      1      0      0\n",
      "snp6      1      1      1      1      0\n",
      "Newick of the SPR tree:  (((cell1,cell3),(cell2,cell4)),cell5);\n",
      "Likelihood of the SPR tree:  -6.271255186813891\n"
     ]
    }
   ],
   "source": [
    "tree, imputed_genotype, likelihood = caller.infer(gp) # run Scistree2 inference\n",
    "print('Imputed genotype from SPR: \\n', imputed_genotype)\n",
    "print('Newick of the SPR tree: ', tree)\n",
    "print('Likelihood of the SPR tree: ', likelihood)"
   ]
  },
  {
   "cell_type": "markdown",
   "id": "c9f7ae5d",
   "metadata": {},
   "source": [
    "We can also replace **SPR** (Subtree Prune and Regraft) local search with **NNI** (Nearest Neighbor Interchange) by setting `nni=True`.\n",
    "\n",
    "```{note}\n",
    "Using **NNI** typically **speeds up the algorithm** but may result in **lower accuracy** compared to **SPR**. NNI is recommended when a faster approximation is needed, especially for **large datasets**.\n",
    "```"
   ]
  },
  {
   "cell_type": "code",
   "execution_count": 9,
   "id": "eac9815d",
   "metadata": {},
   "outputs": [
    {
     "name": "stdout",
     "output_type": "stream",
     "text": [
      "Imputed genotype from NNI: \n",
      "       cell1  cell2  cell3  cell4  cell5\n",
      "snp1      1      0      1      0      0\n",
      "snp2      0      1      0      1      0\n",
      "snp3      1      0      1      0      0\n",
      "snp4      0      0      0      0      1\n",
      "snp5      1      0      1      0      0\n",
      "snp6      1      1      1      1      0\n",
      "Newick of the NNI tree:  (((cell1,cell3),(cell2,cell4)),cell5);\n",
      "Likelihood of the NNI tree:  -6.271255186813891\n"
     ]
    }
   ],
   "source": [
    "caller_nni = s2.ScisTree2(threads=8, nni=True)\n",
    "tree_nni, imputed_genotype_nni, likelihood_nni = caller_nni.infer(gp)\n",
    "print('Imputed genotype from NNI: \\n', imputed_genotype_nni)\n",
    "print('Newick of the NNI tree: ', tree_nni)\n",
    "print('Likelihood of the NNI tree: ', likelihood_nni)"
   ]
  },
  {
   "cell_type": "markdown",
   "id": "115695ee",
   "metadata": {},
   "source": [
    "We may also invoke **ScisTree2** with **Neighbor Joining (NJ)** by setting `nj=True` to obtain **only the initial tree**.\n",
    "\n",
    "```{note}\n",
    "In this toy example, **Neighbor Joining** performs quite well and produces a tree close to the optimal.\n",
    "```"
   ]
  },
  {
   "cell_type": "code",
   "execution_count": 10,
   "id": "b613c693",
   "metadata": {},
   "outputs": [
    {
     "name": "stdout",
     "output_type": "stream",
     "text": [
      "Imputed genotype from NJ: \n",
      "       cell1  cell2  cell3  cell4  cell5\n",
      "snp1      1      0      1      0      0\n",
      "snp2      0      1      0      1      0\n",
      "snp3      1      0      1      0      0\n",
      "snp4      0      0      0      0      1\n",
      "snp5      1      0      1      0      0\n",
      "snp6      1      1      1      1      0\n",
      "Newick of the NJ tree:  (((cell1,cell3),(cell2,cell4)),cell5);\n",
      "Likelihood of the NJ tree:  -6.271255186813891\n"
     ]
    }
   ],
   "source": [
    "caller_nj = s2.ScisTree2(threads=8, nj=True)\n",
    "tree_nj, imputed_genotype_nj, likelihood_nj = caller_nj.infer(gp)\n",
    "print('Imputed genotype from NJ: \\n', imputed_genotype_nj)\n",
    "print('Newick of the NJ tree: ', tree_nj)\n",
    "print('Likelihood of the NJ tree: ', likelihood_nj)"
   ]
  },
  {
   "cell_type": "markdown",
   "id": "fdb178d3",
   "metadata": {},
   "source": [
    "We can also **evaluate a random or alternative tree** using the genotype probability matrix.  \n",
    "Using the same example as before, we evaluate a random tree structure.\n",
    "\n",
    "As expected, the **likelihood** of this alternative tree is **lower** than that of the optimal tree (−6.27)."
   ]
  },
  {
   "cell_type": "code",
   "execution_count": 12,
   "id": "f9ee8295",
   "metadata": {},
   "outputs": [
    {
     "name": "stdout",
     "output_type": "stream",
     "text": [
      "Imputed genotype from SPR: \n",
      "       cell1  cell2  cell3  cell4  cell5\n",
      "snp1      1      1      1      0      1\n",
      "snp2      1      1      1      1      1\n",
      "snp3      1      1      1      0      1\n",
      "snp4      0      0      0      0      1\n",
      "snp5      1      1      1      0      1\n",
      "snp6      1      1      1      1      1\n",
      "Newick of the random tree:  (((cell2,cell3),(cell5,cell1)),cell4);\n",
      "Likelihood of the random tree:  -18.274574970677588\n"
     ]
    }
   ],
   "source": [
    "random_tree = '(((cell2,cell3),(cell5,cell1)),cell4);'\n",
    "imputed_genotype_random, likelihood_random = s2.evaluate(gp, random_tree)\n",
    "# imputed_genotype_random, likelihood_random, tree = s2.evaluate(gp, random_tree, return_tree=True) # or return a tree\n",
    "print('Imputed genotype from SPR: \\n', imputed_genotype_random)\n",
    "print('Newick of the random tree: ', random_tree)\n",
    "print('Likelihood of the random tree: ', likelihood_random)"
   ]
  },
  {
   "cell_type": "markdown",
   "id": "51e537c5",
   "metadata": {},
   "source": [
    "ScisTree2 operates on a heuristic algorithm, which means its execution time can vary. For users who need to control runtime and potentially stop the program early, the `max_iter` parameter is available. By setting `max_iter`, you can define the maximum number of local search steps performed."
   ]
  },
  {
   "cell_type": "code",
   "execution_count": 15,
   "id": "d68c3279",
   "metadata": {},
   "outputs": [
    {
     "name": "stdout",
     "output_type": "stream",
     "text": [
      "likelihood after 2 iterations: -6.271255186813891\n",
      "the optimal likelihood: -6.271255186813891\n"
     ]
    }
   ],
   "source": [
    "caller_early_stop = s2.ScisTree2(threads=8, max_iter=2)\n",
    "tree_early_stop, imputed_genotype_early_stop, likelihood_early_stop = caller_early_stop.infer(gp)\n",
    "print('likelihood after 2 iterations:', likelihood_early_stop)\n",
    "print('the optimal likelihood:', likelihood)"
   ]
  }
 ],
 "metadata": {
  "kernelspec": {
   "display_name": "scistree2",
   "language": "python",
   "name": "python3"
  },
  "language_info": {
   "codemirror_mode": {
    "name": "ipython",
    "version": 3
   },
   "file_extension": ".py",
   "mimetype": "text/x-python",
   "name": "python",
   "nbconvert_exporter": "python",
   "pygments_lexer": "ipython3",
   "version": "3.11.13"
  }
 },
 "nbformat": 4,
 "nbformat_minor": 5
}